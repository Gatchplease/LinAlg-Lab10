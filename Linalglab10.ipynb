{
  "nbformat": 4,
  "nbformat_minor": 0,
  "metadata": {
    "colab": {
      "name": "Untitled12.ipynb",
      "provenance": [],
      "collapsed_sections": []
    },
    "kernelspec": {
      "name": "python3",
      "display_name": "Python 3"
    },
    "language_info": {
      "name": "python"
    }
  },
  "cells": [
    {
      "cell_type": "code",
      "metadata": {
        "id": "0GBfh8dZ5l4j"
      },
      "source": [
        "import numpy as np\n",
        "import matplotlib.pyplot as plt\n",
        "%matplotlib inline"
      ],
      "execution_count": null,
      "outputs": []
    },
    {
      "cell_type": "code",
      "metadata": {
        "colab": {
          "base_uri": "https://localhost:8080/",
          "height": 269
        },
        "id": "-ibpV_80AOn1",
        "outputId": "9ec26d5e-8f88-498d-a129-04c13e0298d2"
      },
      "source": [
        "AB = np.array([\n",
        "    [8,0],\n",
        "    [0,-6]\n",
        "])\n",
        "\n",
        "R = np.arange(0,1,0.20)\n",
        "\n",
        "plt.scatter(R*AB[0,0],R*AB[1,0], color = \"red\")\n",
        "plt.scatter(R*AB[0,1],R*AB[1,1], color = \"cyan\")\n",
        "\n",
        "plt.xlim(-10,10)\n",
        "plt.ylim(-10,10)\n",
        "plt.grid()\n",
        "plt.show()"
      ],
      "execution_count": null,
      "outputs": [
        {
          "output_type": "display_data",
          "data": {
            "image/png": "[encoded data removed]",
            "text/plain": [
              "<Figure size 432x288 with 1 Axes>"
            ]
          },
          "metadata": {
            "tags": [],
            "needs_background": "light"
          }
        }
      ]
    },
    {
      "cell_type": "code",
      "metadata": {
        "colab": {
          "base_uri": "https://localhost:8080/",
          "height": 269
        },
        "id": "T3eqzpYaAXpO",
        "outputId": "dc86b222-831f-4390-b42b-31fb28e3bd5c"
      },
      "source": [
        "CD = np.array([\n",
        "    [10,0],\n",
        "    [ 0,6]\n",
        "])\n",
        "\n",
        "R = np.arange(0,1,0.15)\n",
        "\n",
        "plt.scatter(R*AB[0,0],R*AB[1,0], color = \"red\")\n",
        "plt.scatter(R*AB[0,1],R*AB[1,1], color = \"cyan\")\n",
        "\n",
        "plt.xlim(-10,10)\n",
        "plt.ylim(-10,10)\n",
        "plt.grid()\n",
        "plt.show()"
      ],
      "execution_count": 21,
      "outputs": [
        {
          "output_type": "display_data",
          "data": {
            "image/png": "[encoded data removed]",
            "text/plain": [
              "<Figure size 432x288 with 1 Axes>"
            ]
          },
          "metadata": {
            "tags": [],
            "needs_background": "light"
          }
        }
      ]
    },
    {
      "cell_type": "code",
      "metadata": {
        "colab": {
          "base_uri": "https://localhost:8080/",
          "height": 269
        },
        "id": "i1dASJ0PAae9",
        "outputId": "9b068782-22ba-4a01-fbea-2954028b4048"
      },
      "source": [
        "EF = np.array([\n",
        "    [-10,0],\n",
        "    [ 0,-8]\n",
        "])\n",
        "\n",
        "R = np.arange(0,1,0.15)\n",
        "\n",
        "plt.scatter(R*EF[0,0],R*EF[1,0], color = \"red\")\n",
        "plt.scatter(R*EF[0,1],R*EF[1,1], color = \"cyan\")\n",
        "\n",
        "plt.xlim(-10,10)\n",
        "plt.ylim(-10,10)\n",
        "plt.grid()\n",
        "plt.show()"
      ],
      "execution_count": null,
      "outputs": [
        {
          "output_type": "display_data",
          "data": {
            "image/png": "[encoded data removed]",
            "text/plain": [
              "<Figure size 432x288 with 1 Axes>"
            ]
          },
          "metadata": {
            "tags": [],
            "needs_background": "light"
          }
        }
      ]
    }
  ]
}